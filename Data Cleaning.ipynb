{
 "cells": [
  {
   "cell_type": "markdown",
   "id": "b06a7535-d177-4892-bac3-e89cfa0bb5c3",
   "metadata": {},
   "source": [
    "***TechNova Sales Insights***"
   ]
  },
  {
   "cell_type": "markdown",
   "id": "576e22b7-a49f-4806-bcb8-4f26ef85c827",
   "metadata": {},
   "source": [
    "**Case Study 1 [Exploratory Data Analysis]**"
   ]
  },
  {
   "cell_type": "markdown",
   "id": "7078e2a2-3d73-440a-bd36-0be9a286ba05",
   "metadata": {},
   "source": [
    "**Details regarding the data:-**\n",
    "\n",
    "**Transactional Data:** This table contains details of each and every transaction that happens across any TechNova store across India or via Online channels. Product Returns are also captured as transactions. Details of the SKU, product category, price, store location or online channel, Customer ID, etc. are available in this table."
   ]
  },
  {
   "cell_type": "code",
   "execution_count": 1,
   "id": "75c92c7d-da58-4056-bb95-2a0ab4c2c8f4",
   "metadata": {},
   "outputs": [],
   "source": [
    "# Importing Essential libraries to work on dataset\n",
    "import pandas as pd\n",
    "import numpy as np\n",
    "import matplotlib.pyplot as plt\n",
    "import seaborn as sns\n",
    "from scipy.stats import skew\n",
    "import warnings\n",
    "warnings.filterwarnings(\"ignore\")"
   ]
  },
  {
   "cell_type": "code",
   "execution_count": 2,
   "id": "c36dd871-4bfa-41ff-a2fa-f8619cbcfe1a",
   "metadata": {},
   "outputs": [],
   "source": [
    "# Loading CSV file into DataFrame \n",
    "df = pd.read_csv(\"C:/Users/Omen/OneDrive/Documents/Final Project/wetransfer_campaign_data-csv_2024-04-13_0433/Customer_Transaction_Data.csv\")"
   ]
  },
  {
   "cell_type": "code",
   "execution_count": 3,
   "id": "ee80ebc4-5de3-4132-851e-451257532778",
   "metadata": {},
   "outputs": [
    {
     "name": "stdout",
     "output_type": "stream",
     "text": [
      "<class 'pandas.core.frame.DataFrame'>\n",
      "RangeIndex: 1625393 entries, 0 to 1625392\n",
      "Data columns (total 16 columns):\n",
      " #   Column                    Non-Null Count    Dtype  \n",
      "---  ------                    --------------    -----  \n",
      " 0   CustID                    1625393 non-null  object \n",
      " 1   ItemDesc                  1615527 non-null  object \n",
      " 2   MerchCategoryDescription  1615527 non-null  object \n",
      " 3   MerchClassDescription     1613558 non-null  object \n",
      " 4   MerchGroupDescription     1613558 non-null  object \n",
      " 5   SaleValue                 1625384 non-null  float64\n",
      " 6   OrderedQuantity           1625393 non-null  int64  \n",
      " 7   OrderDate                 1625393 non-null  object \n",
      " 8   ReturnFlag                77239 non-null    object \n",
      " 9   SalesChannelCode          1625393 non-null  object \n",
      " 10  Ecom_BnM_Indicator        1625393 non-null  object \n",
      " 11  StoreID                   1625374 non-null  float64\n",
      " 12  StoreCode                 1625390 non-null  object \n",
      " 13  StoreCity                 1500269 non-null  object \n",
      " 14  StoreState                1442466 non-null  object \n",
      " 15  StorePincode              1442466 non-null  object \n",
      "dtypes: float64(2), int64(1), object(13)\n",
      "memory usage: 198.4+ MB\n"
     ]
    }
   ],
   "source": [
    "# Checking for the Columns, Count and Data-types in the table\n",
    "df.info()"
   ]
  },
  {
   "cell_type": "code",
   "execution_count": 4,
   "id": "e2d09513-553a-47dc-8f45-0e3e6eed0e4d",
   "metadata": {},
   "outputs": [
    {
     "data": {
      "text/html": [
       "<div>\n",
       "<style scoped>\n",
       "    .dataframe tbody tr th:only-of-type {\n",
       "        vertical-align: middle;\n",
       "    }\n",
       "\n",
       "    .dataframe tbody tr th {\n",
       "        vertical-align: top;\n",
       "    }\n",
       "\n",
       "    .dataframe thead th {\n",
       "        text-align: right;\n",
       "    }\n",
       "</style>\n",
       "<table border=\"1\" class=\"dataframe\">\n",
       "  <thead>\n",
       "    <tr style=\"text-align: right;\">\n",
       "      <th></th>\n",
       "      <th>CustID</th>\n",
       "      <th>ItemDesc</th>\n",
       "      <th>MerchCategoryDescription</th>\n",
       "      <th>MerchClassDescription</th>\n",
       "      <th>MerchGroupDescription</th>\n",
       "      <th>SaleValue</th>\n",
       "      <th>OrderedQuantity</th>\n",
       "      <th>OrderDate</th>\n",
       "      <th>ReturnFlag</th>\n",
       "      <th>SalesChannelCode</th>\n",
       "      <th>Ecom_BnM_Indicator</th>\n",
       "      <th>StoreID</th>\n",
       "      <th>StoreCode</th>\n",
       "      <th>StoreCity</th>\n",
       "      <th>StoreState</th>\n",
       "      <th>StorePincode</th>\n",
       "    </tr>\n",
       "  </thead>\n",
       "  <tbody>\n",
       "    <tr>\n",
       "      <th>0</th>\n",
       "      <td>JFRGRFjeEJVG8RJF8R1Foj8AJJ7Et8oH</td>\n",
       "      <td>APPLE PROTECTION PLAN MACBOOK PRO</td>\n",
       "      <td>APPLE PROTECTION PLAN MACBOOK PRO</td>\n",
       "      <td>Mobile Computing</td>\n",
       "      <td>Computers Peripherals</td>\n",
       "      <td>-25398.00</td>\n",
       "      <td>-1</td>\n",
       "      <td>2019-01-01</td>\n",
       "      <td>NaN</td>\n",
       "      <td>RS</td>\n",
       "      <td>B&amp;M</td>\n",
       "      <td>83.0</td>\n",
       "      <td>A129</td>\n",
       "      <td>Pune</td>\n",
       "      <td>Maharashtra</td>\n",
       "      <td>411014</td>\n",
       "    </tr>\n",
       "    <tr>\n",
       "      <th>1</th>\n",
       "      <td>JFRGRFjeEJVG8RJF8R1Foj8AJJ7Et8oH</td>\n",
       "      <td>MacBook Pro 16 2.6GH i7 9G 16GB 512GB SG</td>\n",
       "      <td>MacBook Pro 16 2.6GH i7 9G 16GB 512GB SG</td>\n",
       "      <td>Mobile Computing</td>\n",
       "      <td>Computers Peripherals</td>\n",
       "      <td>-193703.10</td>\n",
       "      <td>-1</td>\n",
       "      <td>2019-01-01</td>\n",
       "      <td>NaN</td>\n",
       "      <td>RS</td>\n",
       "      <td>B&amp;M</td>\n",
       "      <td>83.0</td>\n",
       "      <td>A129</td>\n",
       "      <td>Pune</td>\n",
       "      <td>Maharashtra</td>\n",
       "      <td>411014</td>\n",
       "    </tr>\n",
       "    <tr>\n",
       "      <th>2</th>\n",
       "      <td>V1AG7tA7E1tMVjt7tVH7JARR11AVotet</td>\n",
       "      <td>Samsung Galaxy A70 S 6GB White</td>\n",
       "      <td>Samsung Galaxy A70 S 6GB White</td>\n",
       "      <td>Smart Phones (OS Based)</td>\n",
       "      <td>Communication</td>\n",
       "      <td>26518.98</td>\n",
       "      <td>1</td>\n",
       "      <td>2019-01-01</td>\n",
       "      <td>NaN</td>\n",
       "      <td>RS</td>\n",
       "      <td>B&amp;M</td>\n",
       "      <td>79.0</td>\n",
       "      <td>A122</td>\n",
       "      <td>Ghaziabad</td>\n",
       "      <td>Delhi NCR</td>\n",
       "      <td>201001</td>\n",
       "    </tr>\n",
       "    <tr>\n",
       "      <th>3</th>\n",
       "      <td>V1AG7tA7E1tMVjt7tVH7JARR11AVotet</td>\n",
       "      <td>Wireless Earphones ITFIT Freebie Red</td>\n",
       "      <td>Wireless Earphones ITFIT Freebie Red</td>\n",
       "      <td>Free Gifts</td>\n",
       "      <td>Miscellaneous</td>\n",
       "      <td>0.00</td>\n",
       "      <td>1</td>\n",
       "      <td>2019-01-01</td>\n",
       "      <td>NaN</td>\n",
       "      <td>RS</td>\n",
       "      <td>B&amp;M</td>\n",
       "      <td>79.0</td>\n",
       "      <td>A122</td>\n",
       "      <td>Ghaziabad</td>\n",
       "      <td>Delhi NCR</td>\n",
       "      <td>201001</td>\n",
       "    </tr>\n",
       "    <tr>\n",
       "      <th>4</th>\n",
       "      <td>tAEVH8jEG1Eoe1GE1JEojJetVtMGFjto</td>\n",
       "      <td>DELL New bag pack</td>\n",
       "      <td>DELL New bag pack</td>\n",
       "      <td>Mobile Computing</td>\n",
       "      <td>Computers Peripherals</td>\n",
       "      <td>-1120.98</td>\n",
       "      <td>-1</td>\n",
       "      <td>2019-01-01</td>\n",
       "      <td>NaN</td>\n",
       "      <td>RS</td>\n",
       "      <td>B&amp;M</td>\n",
       "      <td>8.0</td>\n",
       "      <td>A010</td>\n",
       "      <td>Surat</td>\n",
       "      <td>Gujarat</td>\n",
       "      <td>395007</td>\n",
       "    </tr>\n",
       "  </tbody>\n",
       "</table>\n",
       "</div>"
      ],
      "text/plain": [
       "                             CustID                                  ItemDesc  \\\n",
       "0  JFRGRFjeEJVG8RJF8R1Foj8AJJ7Et8oH         APPLE PROTECTION PLAN MACBOOK PRO   \n",
       "1  JFRGRFjeEJVG8RJF8R1Foj8AJJ7Et8oH  MacBook Pro 16 2.6GH i7 9G 16GB 512GB SG   \n",
       "2  V1AG7tA7E1tMVjt7tVH7JARR11AVotet            Samsung Galaxy A70 S 6GB White   \n",
       "3  V1AG7tA7E1tMVjt7tVH7JARR11AVotet      Wireless Earphones ITFIT Freebie Red   \n",
       "4  tAEVH8jEG1Eoe1GE1JEojJetVtMGFjto                         DELL New bag pack   \n",
       "\n",
       "                   MerchCategoryDescription    MerchClassDescription  \\\n",
       "0         APPLE PROTECTION PLAN MACBOOK PRO         Mobile Computing   \n",
       "1  MacBook Pro 16 2.6GH i7 9G 16GB 512GB SG         Mobile Computing   \n",
       "2            Samsung Galaxy A70 S 6GB White  Smart Phones (OS Based)   \n",
       "3      Wireless Earphones ITFIT Freebie Red               Free Gifts   \n",
       "4                         DELL New bag pack         Mobile Computing   \n",
       "\n",
       "   MerchGroupDescription  SaleValue  OrderedQuantity   OrderDate ReturnFlag  \\\n",
       "0  Computers Peripherals  -25398.00               -1  2019-01-01        NaN   \n",
       "1  Computers Peripherals -193703.10               -1  2019-01-01        NaN   \n",
       "2          Communication   26518.98                1  2019-01-01        NaN   \n",
       "3          Miscellaneous       0.00                1  2019-01-01        NaN   \n",
       "4  Computers Peripherals   -1120.98               -1  2019-01-01        NaN   \n",
       "\n",
       "  SalesChannelCode Ecom_BnM_Indicator  StoreID StoreCode  StoreCity  \\\n",
       "0               RS                B&M     83.0      A129       Pune   \n",
       "1               RS                B&M     83.0      A129       Pune   \n",
       "2               RS                B&M     79.0      A122  Ghaziabad   \n",
       "3               RS                B&M     79.0      A122  Ghaziabad   \n",
       "4               RS                B&M      8.0      A010      Surat   \n",
       "\n",
       "    StoreState StorePincode  \n",
       "0  Maharashtra       411014  \n",
       "1  Maharashtra       411014  \n",
       "2    Delhi NCR       201001  \n",
       "3    Delhi NCR       201001  \n",
       "4      Gujarat       395007  "
      ]
     },
     "execution_count": 4,
     "metadata": {},
     "output_type": "execute_result"
    }
   ],
   "source": [
    "df.head()"
   ]
  },
  {
   "cell_type": "code",
   "execution_count": 5,
   "id": "aa109448-8249-48d3-809c-ed9a53006f5f",
   "metadata": {},
   "outputs": [
    {
     "data": {
      "text/plain": [
       "CustID                            0\n",
       "ItemDesc                       9866\n",
       "MerchCategoryDescription       9866\n",
       "MerchClassDescription         11835\n",
       "MerchGroupDescription         11835\n",
       "SaleValue                         9\n",
       "OrderedQuantity                   0\n",
       "OrderDate                         0\n",
       "ReturnFlag                  1548154\n",
       "SalesChannelCode                  0\n",
       "Ecom_BnM_Indicator                0\n",
       "StoreID                          19\n",
       "StoreCode                         3\n",
       "StoreCity                    125124\n",
       "StoreState                   182927\n",
       "StorePincode                 182927\n",
       "dtype: int64"
      ]
     },
     "execution_count": 5,
     "metadata": {},
     "output_type": "execute_result"
    }
   ],
   "source": [
    "# Getting the Number of NULL values in the dataset\n",
    "df.isnull().sum()"
   ]
  },
  {
   "cell_type": "code",
   "execution_count": 6,
   "id": "30e0fbbe-9e75-4b5d-913a-2e2df78b85e4",
   "metadata": {},
   "outputs": [
    {
     "name": "stdout",
     "output_type": "stream",
     "text": [
      "Percentile of NaN values in each column:\n",
      "ReturnFlag: 95.25%\n",
      "StoreState: 11.25%\n",
      "StorePincode: 11.25%\n",
      "StoreCity: 7.70%\n",
      "MerchClassDescription: 0.73%\n",
      "MerchGroupDescription: 0.73%\n",
      "ItemDesc: 0.61%\n",
      "MerchCategoryDescription: 0.61%\n",
      "StoreID: 0.00%\n",
      "SaleValue: 0.00%\n",
      "StoreCode: 0.00%\n",
      "CustID: 0.00%\n",
      "OrderedQuantity: 0.00%\n",
      "OrderDate: 0.00%\n",
      "SalesChannelCode: 0.00%\n",
      "Ecom_BnM_Indicator: 0.00%\n"
     ]
    }
   ],
   "source": [
    "# Getting the percentage of NaN values\n",
    "nan_percentiles = []\n",
    "for col in df.columns:\n",
    "    nan_percentage = df[col].isnull().mean() * 100\n",
    "    nan_percentiles.append((col, nan_percentage))\n",
    "    \n",
    "nan_percentiles.sort(key=lambda x: x[1], reverse=True)\n",
    "\n",
    "print(\"Percentile of NaN values in each column:\")\n",
    "for col, nan_percentage in nan_percentiles:\n",
    "    print(f\"{col}: {nan_percentage:.2f}%\")"
   ]
  },
  {
   "cell_type": "markdown",
   "id": "2b5152ff-8ed6-4d1f-ae03-afb2971f774e",
   "metadata": {},
   "source": [
    "**Now we will treat the columns with higher NaN percentile and also the columns with extremely lower NaN percentile.**"
   ]
  },
  {
   "cell_type": "code",
   "execution_count": 7,
   "id": "3b5f9ad6-5596-41ec-a9c0-b48a558d690a",
   "metadata": {},
   "outputs": [],
   "source": [
    "df.drop(columns=['ReturnFlag'], inplace=True)"
   ]
  },
  {
   "cell_type": "markdown",
   "id": "3605b06a-28e3-45c7-8415-28ebb41fc92c",
   "metadata": {},
   "source": [
    "Dropping the column \"ReturnFlag\" since the percentage of NaN values is 95.25% which is not useful for our analysis."
   ]
  },
  {
   "cell_type": "code",
   "execution_count": 8,
   "id": "6d2b86aa-6e54-4c9b-88a2-a29048027fc5",
   "metadata": {},
   "outputs": [],
   "source": [
    "Merch_columns = ['MerchClassDescription', 'MerchGroupDescription', 'ItemDesc', 'MerchCategoryDescription']\n",
    "df = df.dropna(subset=Merch_columns)"
   ]
  },
  {
   "cell_type": "markdown",
   "id": "dd04edad-1efe-4678-af40-9dd6f3a905bb",
   "metadata": {},
   "source": [
    "Dropped the NaN values from 'MerchClassDescription', 'MerchGroupDescription', 'ItemDesc', 'MerchCategoryDescription' because the percentage of NaN values is less then 3% (Standard Value)"
   ]
  },
  {
   "cell_type": "code",
   "execution_count": 9,
   "id": "048389be-4932-4121-9f62-0c50cee35ec8",
   "metadata": {},
   "outputs": [
    {
     "name": "stdout",
     "output_type": "stream",
     "text": [
      "NaN values filled for 'StoreState' column:\n",
      "113678\n"
     ]
    }
   ],
   "source": [
    "# Treating NULL values in column 'StoreState'\n",
    "for index, row in df.iterrows():\n",
    "    # Checking if 'StoreState' is NaN\n",
    "    if pd.isna(row['StoreState']):\n",
    "        # Filling 'StoreState' with the value from 'StoreCity'\n",
    "        df.at[index, 'StoreState'] = row['StoreCity']\n",
    "\n",
    "# Checking if NaN values in 'StoreState' are filled\n",
    "print(\"NaN values filled for 'StoreState' column:\")\n",
    "print(df['StoreState'].isnull().sum())"
   ]
  },
  {
   "cell_type": "markdown",
   "id": "cd64a875-4459-4090-a8c1-687b27323074",
   "metadata": {},
   "source": [
    "Firstly checking for NaN values in 'StoreState' and then filling the values from 'StoreCity' respected to 'StoreState'."
   ]
  },
  {
   "cell_type": "code",
   "execution_count": 10,
   "id": "075ffac2-87a5-4902-bd30-005bac992513",
   "metadata": {},
   "outputs": [],
   "source": [
    "columns_to_replace = ['StoreCity', 'StoreState']\n",
    "\n",
    "# Replacing blank spaces with 'DEFAULT' for the specified columns\n",
    "df[columns_to_replace] = df[columns_to_replace].fillna('DEFAULT')"
   ]
  },
  {
   "cell_type": "markdown",
   "id": "8d2aa151-fced-438d-b617-c4bd536e15fd",
   "metadata": {},
   "source": [
    "The above step will allow us to fill NaN values with the word 'DEFAULT' and by this way all NULL values will be treated correctly."
   ]
  },
  {
   "cell_type": "code",
   "execution_count": 11,
   "id": "701ef359-3118-4c3e-81a0-e502c4966509",
   "metadata": {},
   "outputs": [
    {
     "data": {
      "text/plain": [
       "StoreCity     0\n",
       "StoreState    0\n",
       "dtype: int64"
      ]
     },
     "execution_count": 11,
     "metadata": {},
     "output_type": "execute_result"
    }
   ],
   "source": [
    "df[columns_to_replace].isnull().sum()"
   ]
  },
  {
   "cell_type": "markdown",
   "id": "fd56d056-f113-4c50-a0de-88c2db2dd5c6",
   "metadata": {},
   "source": [
    "As we can see that there are no NaN values in 'StoreCity', 'StoreState'. Similarly applying same step to 'StorePincode' but instead of 'DEFAULT' we will be replacing it by '0' because the datatype of the column is numerical."
   ]
  },
  {
   "cell_type": "code",
   "execution_count": 12,
   "id": "0d814cc9-ca67-4327-b768-bf6d56ef4ecc",
   "metadata": {},
   "outputs": [],
   "source": [
    "df['StorePincode'] = df['StorePincode'].fillna(0)"
   ]
  },
  {
   "cell_type": "code",
   "execution_count": 13,
   "id": "323d5862-95be-463a-8578-52198272c48e",
   "metadata": {},
   "outputs": [
    {
     "data": {
      "text/plain": [
       "0"
      ]
     },
     "execution_count": 13,
     "metadata": {},
     "output_type": "execute_result"
    }
   ],
   "source": [
    "df['StorePincode'].isnull().sum()"
   ]
  },
  {
   "cell_type": "code",
   "execution_count": 14,
   "id": "df1d864a-0b72-4aee-bac8-5381842bbd4b",
   "metadata": {},
   "outputs": [
    {
     "name": "stdout",
     "output_type": "stream",
     "text": [
      "Percentile of NaN values in each column:\n",
      "StoreID: 0.00%\n",
      "SaleValue: 0.00%\n",
      "StoreCode: 0.00%\n",
      "CustID: 0.00%\n",
      "ItemDesc: 0.00%\n",
      "MerchCategoryDescription: 0.00%\n",
      "MerchClassDescription: 0.00%\n",
      "MerchGroupDescription: 0.00%\n",
      "OrderedQuantity: 0.00%\n",
      "OrderDate: 0.00%\n",
      "SalesChannelCode: 0.00%\n",
      "Ecom_BnM_Indicator: 0.00%\n",
      "StoreCity: 0.00%\n",
      "StoreState: 0.00%\n",
      "StorePincode: 0.00%\n"
     ]
    }
   ],
   "source": [
    "nan_percentiles = []\n",
    "for col in df.columns:\n",
    "    nan_percentage = df[col].isnull().mean() * 100\n",
    "    nan_percentiles.append((col, nan_percentage))\n",
    "    \n",
    "nan_percentiles.sort(key=lambda x: x[1], reverse=True)\n",
    "\n",
    "print(\"Percentile of NaN values in each column:\")\n",
    "for col, nan_percentage in nan_percentiles:\n",
    "    print(f\"{col}: {nan_percentage:.2f}%\")"
   ]
  },
  {
   "cell_type": "markdown",
   "id": "a5df0c96-1bbb-4320-ad22-fae1f38a002c",
   "metadata": {},
   "source": [
    "**From the above step it is clear that there are NO NULL values in our dataset**"
   ]
  },
  {
   "cell_type": "markdown",
   "id": "4cedfdac-e666-497d-9ef0-1ae2781df70b",
   "metadata": {},
   "source": [
    "**Now lets check the Skewness of the Numerical columns drom the above dataframe**"
   ]
  },
  {
   "cell_type": "code",
   "execution_count": 15,
   "id": "9efcf180-d304-4672-8d2b-ebfe5ba562d6",
   "metadata": {},
   "outputs": [],
   "source": [
    "SaleValue_skew = df['SaleValue'].skew()\n",
    "OrderedQuantity_skew = df['OrderedQuantity'].skew()"
   ]
  },
  {
   "cell_type": "markdown",
   "id": "e666c34d-2a72-4aa1-b44e-c3420b2faf6a",
   "metadata": {},
   "source": [
    "From all the numerical columns we have selected the 'SaleValue' & 'OrderedQuantity' because this are the most relevant columns in our dataframe."
   ]
  },
  {
   "cell_type": "code",
   "execution_count": 16,
   "id": "e42dad74-4e88-49f6-92f6-75922ef83712",
   "metadata": {},
   "outputs": [
    {
     "name": "stdout",
     "output_type": "stream",
     "text": [
      "2.144620322742717\n",
      "616.5358470146809\n"
     ]
    }
   ],
   "source": [
    "print(SaleValue_skew)\n",
    "print(OrderedQuantity_skew)"
   ]
  },
  {
   "cell_type": "markdown",
   "id": "6b16f576-490c-4bda-9ce3-1dd13e42a0d2",
   "metadata": {},
   "source": [
    "As we can see that the skewness of 'SaleValue' is 2.145 and that of 'OrderedQuantity' is 616.54 which is highly skewed. "
   ]
  },
  {
   "cell_type": "markdown",
   "id": "52ef09d4-be5c-487c-b57e-dbaf007dbb99",
   "metadata": {},
   "source": [
    "**Now Visualizing the skewness of 'SaleValue' & 'OrderedQuantity' with the help of KDE plot**"
   ]
  },
  {
   "cell_type": "code",
   "execution_count": 17,
   "id": "ae636f51-d8d7-45a2-bcba-1e841fa81d31",
   "metadata": {},
   "outputs": [
    {
     "data": {
      "image/png": "[encoded data removed]",
      "text/plain": [
       "<Figure size 1400x700 with 2 Axes>"
      ]
     },
     "metadata": {},
     "output_type": "display_data"
    }
   ],
   "source": [
    "# Setting the style of seaborn\n",
    "sns.set(style='whitegrid')\n",
    " \n",
    "# Creating a figure for 2 subplots (1 row, 2 columns)\n",
    "fig, ax = plt.subplots(1, 2, figsize=(14, 7))\n",
    " \n",
    "# Plot for SaleValue\n",
    "sns.kdeplot(df['SaleValue'], ax=ax[0], color='skyblue')\n",
    "ax[0].set_title('Distribution of SaleValue', fontsize=16)\n",
    "ax[0].set_xlabel('SaleValue')\n",
    "ax[0].set_ylabel('Frequency')\n",
    "# Annotating Skewness\n",
    "ax[0].text(0.5, 0.5, f'Skew: {SaleValue_skew:.2f}', transform=ax[0].transAxes,horizontalalignment='right', \n",
    "           color='black', weight='bold',fontsize=14)\n",
    " \n",
    "# Plot for OrderedQuantity\n",
    "sns.kdeplot(df['OrderedQuantity'], ax=ax[1], color='salmon')\n",
    "ax[1].set_title('Distribution of OrderedQuantity', fontsize=16)\n",
    "ax[1].set_xlabel('OrderedQuantity')\n",
    "ax[1].set_ylabel('Frequency')\n",
    "# Annotating Skewness\n",
    "ax[1].text(0.5, 0.5, f'Skew: {OrderedQuantity_skew:.2f}', transform=ax[1].transAxes,horizontalalignment='right', \n",
    "           color='black', weight='bold',fontsize=14)\n",
    " \n",
    "plt.tight_layout()\n",
    "plt.show()"
   ]
  },
  {
   "cell_type": "code",
   "execution_count": 18,
   "id": "ce2d3c21-9021-4891-b360-5cacbb3446f0",
   "metadata": {},
   "outputs": [],
   "source": [
    "df['SaleValue'] = df['SaleValue'].abs()\n",
    "df['OrderedQuantity'] = df['OrderedQuantity'].abs()"
   ]
  },
  {
   "cell_type": "markdown",
   "id": "7c6a4a73-8466-4025-8e42-7700b269ef89",
   "metadata": {},
   "source": [
    "Since there are -ve values in the above columns so we used **abs()** function which will convert all -ve values to +ve values so that we can perform Log Transformation or Square Root Transformation "
   ]
  },
  {
   "cell_type": "code",
   "execution_count": 19,
   "id": "604e7669-12ee-402a-bddb-b39d1b2ecc4e",
   "metadata": {},
   "outputs": [
    {
     "data": {
      "text/plain": [
       "array([   1,   15,    2,   10,    5,    3,    4,    0,   17,    6,    9,\n",
       "         21,   18,  100,    8,   25,   12,   16,   20,  221,   50,   19,\n",
       "         45,   24,    7,  152,  150,   11,   30,   13,   68,   14,   33,\n",
       "        155,  153,   27,   90,   36,   22,   42,   23,   60,   35,  146,\n",
       "         28,   40,   29,   49,   69,   96,  259,  257,   66,  123,   71,\n",
       "         26,   78,   43,  190,   72,  245, 1305,  131,   34,   46,   70,\n",
       "        231,  170,  167,  350,   41,   39,   31,   37, 1992,   74,   97,\n",
       "         38,   44,   56], dtype=int64)"
      ]
     },
     "execution_count": 19,
     "metadata": {},
     "output_type": "execute_result"
    }
   ],
   "source": [
    "# Checking for all Unique values\n",
    "df['OrderedQuantity'].unique()"
   ]
  },
  {
   "cell_type": "markdown",
   "id": "c211c224-3506-4eec-bf4c-b2a5d7c0fc71",
   "metadata": {},
   "source": [
    "From the above step it is clear that there are '0' in the column which will affect us while performing transformation methods"
   ]
  },
  {
   "cell_type": "code",
   "execution_count": 20,
   "id": "21b24546-5104-4998-9f0f-22e481ff34fe",
   "metadata": {},
   "outputs": [],
   "source": [
    "# Adding a small constant to the columns to ensure all values are positive (Treatment for '0' values)\n",
    "constant = 0.0001 \n",
    "df['SaleValue'] += constant\n",
    "df['OrderedQuantity'] += constant"
   ]
  },
  {
   "cell_type": "code",
   "execution_count": 21,
   "id": "9d91f764-a37b-49ea-ae81-abaed522ff65",
   "metadata": {},
   "outputs": [
    {
     "name": "stdout",
     "output_type": "stream",
     "text": [
      "Skewness after Log Transformation: -2.58515\n",
      "Skewness after Log Transformation: -34.80293\n"
     ]
    }
   ],
   "source": [
    "# Performing Log Transformation \n",
    "df['Log_SaleValue'] = np.log(df['SaleValue'])\n",
    "df['Log_OrderedQuantity'] = np.log(df['OrderedQuantity'])\n",
    "print(f\"Skewness after Log Transformation: {df['Log_SaleValue'].skew():.5f}\")\n",
    "print(f\"Skewness after Log Transformation: {df['Log_OrderedQuantity'].skew():.5f}\")"
   ]
  },
  {
   "cell_type": "code",
   "execution_count": 22,
   "id": "de9e4caf-eb2d-48c4-b0ee-d9e605355ebd",
   "metadata": {},
   "outputs": [
    {
     "name": "stdout",
     "output_type": "stream",
     "text": [
      "Skewness after SQRT Transformation: 1.42064\n",
      "Skewness after SQRT Transformation: 105.02556\n"
     ]
    }
   ],
   "source": [
    "# Performing Square Root Transformation.\n",
    "df['Sqrt_SaleValue'] = np.sqrt(df['SaleValue'])\n",
    "df['Sqrt_OrderedQuantity'] = np.sqrt(df['OrderedQuantity'])\n",
    "print(f\"Skewness after SQRT Transformation: {df['Sqrt_SaleValue'].skew():.5f}\")\n",
    "print(f\"Skewness after SQRT Transformation: {df['Sqrt_OrderedQuantity'].skew():.5f}\")"
   ]
  },
  {
   "cell_type": "markdown",
   "id": "3fd96ac2-dd76-4303-91fc-63c70b500351",
   "metadata": {},
   "source": [
    "From above 2 steps we will select SQRT Transformation for 'SaleValue' and Log Transformation for 'OrderedQuantity'. "
   ]
  },
  {
   "cell_type": "code",
   "execution_count": 23,
   "id": "737c98ef-6a63-4a59-9c12-7a2fba0f1680",
   "metadata": {},
   "outputs": [
    {
     "data": {
      "image/png": "[encoded data removed]",
      "text/plain": [
       "<Figure size 1400x700 with 2 Axes>"
      ]
     },
     "metadata": {},
     "output_type": "display_data"
    }
   ],
   "source": [
    "fig, ax = plt.subplots(1, 2, figsize=(14, 7))\n",
    "# Sqrt Transformed SaleValue\n",
    "sns.kdeplot(df['Sqrt_SaleValue'], ax=ax[0], color='blue')\n",
    "ax[0].set_title('Sqrt Transformed SaleValue (Skew: 1.42064)')\n",
    "ax[0].set_xlabel('Sqrt of SaleValue')\n",
    "ax[0].set_ylabel('Frequency')\n",
    "\n",
    "# Log Transformed OrderedQuantity\n",
    "sns.kdeplot(df['Log_OrderedQuantity'], ax=ax[1], color='salmon')\n",
    "ax[1].set_title('Log Transformed OrderedQuantity (Skew: -34.80293)')\n",
    "ax[1].set_xlabel('Log_OrderedQuantity')\n",
    "ax[1].set_ylabel('Frequency')\n",
    "\n",
    "plt.tight_layout()\n",
    "plt.show()"
   ]
  },
  {
   "cell_type": "code",
   "execution_count": 24,
   "id": "759971d4-dd81-4e8a-abe0-c1b3e4daba3b",
   "metadata": {},
   "outputs": [],
   "source": [
    "# Dropped columns which are of No use.\n",
    "df.drop(columns=['Log_SaleValue','Sqrt_OrderedQuantity'], inplace=True)"
   ]
  },
  {
   "cell_type": "code",
   "execution_count": 25,
   "id": "d16acad6-f899-44d2-b279-770baae65547",
   "metadata": {},
   "outputs": [],
   "source": [
    "# Converting the Data-Types of Respective Columns according to their values\n",
    "df['MerchClassDescription'] = df['MerchClassDescription'].astype('category')\n",
    "df['MerchGroupDescription'] = df['MerchGroupDescription'].astype('category')\n",
    "df['ItemDesc'] = df['ItemDesc'].astype('category')\n",
    "df['MerchCategoryDescription'] = df['MerchCategoryDescription'].astype('category')\n",
    "df['CustID'] = df['CustID'].astype('category')\n",
    "df['OrderDate'] = df['OrderDate'].astype('datetime64[ns]')\n",
    "df['SalesChannelCode'] = df['SalesChannelCode'].astype('category')\n",
    "df['Ecom_BnM_Indicator'] = df['Ecom_BnM_Indicator'].astype('category')\n",
    "df['StoreCode'] = df['StoreCode'].astype('category')\n",
    "df['StoreCity'] = df['StoreCity'].astype('category')\n",
    "df['StoreState'] = df['StoreState'].astype('category')\n",
    "df['StorePincode'] = df['StorePincode'].astype('category')"
   ]
  },
  {
   "cell_type": "code",
   "execution_count": 26,
   "id": "05fcd94f-59a4-4c42-bfb2-768c1ac00bca",
   "metadata": {},
   "outputs": [
    {
     "name": "stdout",
     "output_type": "stream",
     "text": [
      "<class 'pandas.core.frame.DataFrame'>\n",
      "Index: 1603692 entries, 0 to 1625392\n",
      "Data columns (total 17 columns):\n",
      " #   Column                    Non-Null Count    Dtype         \n",
      "---  ------                    --------------    -----         \n",
      " 0   CustID                    1603692 non-null  category      \n",
      " 1   ItemDesc                  1603692 non-null  category      \n",
      " 2   MerchCategoryDescription  1603692 non-null  category      \n",
      " 3   MerchClassDescription     1603692 non-null  category      \n",
      " 4   MerchGroupDescription     1603692 non-null  category      \n",
      " 5   SaleValue                 1603683 non-null  float64       \n",
      " 6   OrderedQuantity           1603692 non-null  float64       \n",
      " 7   OrderDate                 1603692 non-null  datetime64[ns]\n",
      " 8   SalesChannelCode          1603692 non-null  category      \n",
      " 9   Ecom_BnM_Indicator        1603692 non-null  category      \n",
      " 10  StoreID                   1603673 non-null  float64       \n",
      " 11  StoreCode                 1603689 non-null  category      \n",
      " 12  StoreCity                 1603692 non-null  category      \n",
      " 13  StoreState                1603692 non-null  category      \n",
      " 14  StorePincode              1603692 non-null  category      \n",
      " 15  Log_OrderedQuantity       1603692 non-null  float64       \n",
      " 16  Sqrt_SaleValue            1603683 non-null  float64       \n",
      "dtypes: category(11), datetime64[ns](1), float64(5)\n",
      "memory usage: 174.2 MB\n"
     ]
    }
   ],
   "source": [
    "# Checking for all the changes that have been performed\n",
    "df.info()"
   ]
  },
  {
   "cell_type": "markdown",
   "id": "e08b6c51-5b93-4b47-b69a-50b6219114ab",
   "metadata": {},
   "source": [
    "**Now converting the above cleaned dataset into new CSV file**"
   ]
  },
  {
   "cell_type": "code",
   "execution_count": 28,
   "id": "dc493e45-37e1-48ed-80b0-32b505e680b0",
   "metadata": {},
   "outputs": [],
   "source": [
    "df.to_csv('Cleaned_Customer_Transaction_Data.csv', index=False)"
   ]
  },
  {
   "cell_type": "code",
   "execution_count": null,
   "id": "816bf874-11d8-4c88-981e-574a268ff701",
   "metadata": {},
   "outputs": [],
   "source": []
  },
  {
   "cell_type": "markdown",
   "id": "b6bdc6bd-8557-460e-a135-50293b9551ba",
   "metadata": {},
   "source": [
    "**Details Regarding the data:-**\n",
    "\n",
    "**Delivery Data:** Details of shipments including invoice number, timestamps of each process from packing to delivery, etc."
   ]
  },
  {
   "cell_type": "code",
   "execution_count": 29,
   "id": "431b581f-9849-4d7d-a433-f8cb5f82bd51",
   "metadata": {},
   "outputs": [],
   "source": [
    "# Loading CSV file into DataFrame\n",
    "df_dd = pd.read_csv(\"C:/Users/Omen/OneDrive/Documents/Final Project/wetransfer_campaign_data-csv_2024-04-13_0433/Customer_Delivery_Data.csv\")"
   ]
  },
  {
   "cell_type": "code",
   "execution_count": 30,
   "id": "2887361c-6c36-4a41-96db-b6cf6517cf17",
   "metadata": {},
   "outputs": [
    {
     "data": {
      "text/html": [
       "<div>\n",
       "<style scoped>\n",
       "    .dataframe tbody tr th:only-of-type {\n",
       "        vertical-align: middle;\n",
       "    }\n",
       "\n",
       "    .dataframe tbody tr th {\n",
       "        vertical-align: top;\n",
       "    }\n",
       "\n",
       "    .dataframe thead th {\n",
       "        text-align: right;\n",
       "    }\n",
       "</style>\n",
       "<table border=\"1\" class=\"dataframe\">\n",
       "  <thead>\n",
       "    <tr style=\"text-align: right;\">\n",
       "      <th></th>\n",
       "      <th>orderdate</th>\n",
       "      <th>articletype</th>\n",
       "      <th>originalreqdeliverydate</th>\n",
       "      <th>currentstatus</th>\n",
       "      <th>currentstatustimestamp</th>\n",
       "      <th>sale_timestamp</th>\n",
       "      <th>readytopick_timestamp</th>\n",
       "      <th>readytoship_timestamp</th>\n",
       "      <th>packed_timestamp</th>\n",
       "      <th>connecttocarrier_timestamp</th>\n",
       "      <th>...</th>\n",
       "      <th>outfordelivery_timestamp</th>\n",
       "      <th>delivered_timestamp</th>\n",
       "      <th>articlename</th>\n",
       "      <th>merchcategorydescription</th>\n",
       "      <th>merchclassdescription</th>\n",
       "      <th>merchgroupdescription</th>\n",
       "      <th>itemdesc</th>\n",
       "      <th>shiptozipcode</th>\n",
       "      <th>shiptocity</th>\n",
       "      <th>shiptostate</th>\n",
       "    </tr>\n",
       "  </thead>\n",
       "  <tbody>\n",
       "    <tr>\n",
       "      <th>0</th>\n",
       "      <td>2022-11-15</td>\n",
       "      <td>ZPLU</td>\n",
       "      <td>21-11-2022 00:00</td>\n",
       "      <td>Order Delivered</td>\n",
       "      <td>17-11-2022 19:00</td>\n",
       "      <td>15-11-2022 18:39</td>\n",
       "      <td>15-11-2022 20:53</td>\n",
       "      <td>16-11-2022 08:15</td>\n",
       "      <td>16-11-2022 08:23</td>\n",
       "      <td>16-11-2022 08:24</td>\n",
       "      <td>...</td>\n",
       "      <td>17-11-2022 19:00</td>\n",
       "      <td>17-11-2022 19:00</td>\n",
       "      <td>Lenovo 10.3 Tab X606V 2ndG 4+128GB Grey</td>\n",
       "      <td>Tablets &amp; Detachables - D</td>\n",
       "      <td>Tablets &amp; Detachables</td>\n",
       "      <td>Computers Peripherals</td>\n",
       "      <td>Lenovo 10.3 Tab X606V 2ndG 4+128GB Grey</td>\n",
       "      <td>226010.0</td>\n",
       "      <td>LUCKNOW</td>\n",
       "      <td>Uttar Pradesh</td>\n",
       "    </tr>\n",
       "    <tr>\n",
       "      <th>1</th>\n",
       "      <td>2022-11-16</td>\n",
       "      <td>ZPLU</td>\n",
       "      <td>16-11-2022 00:00</td>\n",
       "      <td>Order Delivered</td>\n",
       "      <td>19-11-2022 13:28</td>\n",
       "      <td>16-11-2022 17:30</td>\n",
       "      <td>16-11-2022 18:25</td>\n",
       "      <td>16-11-2022 19:34</td>\n",
       "      <td>16-11-2022 20:51</td>\n",
       "      <td>16-11-2022 20:51</td>\n",
       "      <td>...</td>\n",
       "      <td>19-11-2022 11:44</td>\n",
       "      <td>19-11-2022 13:28</td>\n",
       "      <td>SAMSUNG FF 253L RT28T3042S8/NL EL INX 2S</td>\n",
       "      <td>Refrigerator Frost Free &lt;300L</td>\n",
       "      <td>Refrigerators</td>\n",
       "      <td>Large Appliances</td>\n",
       "      <td>SAMSUNG FF 253L RT28T3042S8/NL EL INX 2S</td>\n",
       "      <td>389350.0</td>\n",
       "      <td>HALOL</td>\n",
       "      <td>Gujarat</td>\n",
       "    </tr>\n",
       "    <tr>\n",
       "      <th>2</th>\n",
       "      <td>2022-11-16</td>\n",
       "      <td>ZPLU</td>\n",
       "      <td>16-11-2022 00:00</td>\n",
       "      <td>Order Delivered</td>\n",
       "      <td>21-11-2022 17:34</td>\n",
       "      <td>16-11-2022 17:59</td>\n",
       "      <td>16-11-2022 19:51</td>\n",
       "      <td>16-11-2022 23:41</td>\n",
       "      <td>17-11-2022 01:54</td>\n",
       "      <td>17-11-2022 01:54</td>\n",
       "      <td>...</td>\n",
       "      <td>21-11-2022 13:13</td>\n",
       "      <td>21-11-2022 17:34</td>\n",
       "      <td>BOAT 2.1Ch Soundbar Aavante 1550 RTL</td>\n",
       "      <td>Sound Bars_H</td>\n",
       "      <td>Home Theatre</td>\n",
       "      <td>Entertainment</td>\n",
       "      <td>BOAT 2.1Ch Soundbar Aavante 1550 RTL</td>\n",
       "      <td>493221.0</td>\n",
       "      <td>RAIPUR</td>\n",
       "      <td>Chhattisgarh</td>\n",
       "    </tr>\n",
       "    <tr>\n",
       "      <th>3</th>\n",
       "      <td>2022-11-16</td>\n",
       "      <td>ZPLU</td>\n",
       "      <td>16-11-2022 00:00</td>\n",
       "      <td>Order Delivered</td>\n",
       "      <td>18-11-2022 15:24</td>\n",
       "      <td>16-11-2022 22:22</td>\n",
       "      <td>17-11-2022 02:22</td>\n",
       "      <td>17-11-2022 03:40</td>\n",
       "      <td>17-11-2022 05:10</td>\n",
       "      <td>17-11-2022 05:10</td>\n",
       "      <td>...</td>\n",
       "      <td>18-11-2022 12:53</td>\n",
       "      <td>18-11-2022 15:24</td>\n",
       "      <td>Croma LedFHD OA 40in 1Y CREL040FOF024601</td>\n",
       "      <td>LED Panels 40\"</td>\n",
       "      <td>TV LCD</td>\n",
       "      <td>Entertainment</td>\n",
       "      <td>E-Croma LedFHD OA40in1Y CREL040FOF024601</td>\n",
       "      <td>250001.0</td>\n",
       "      <td>MEERUT</td>\n",
       "      <td>Uttar Pradesh</td>\n",
       "    </tr>\n",
       "    <tr>\n",
       "      <th>4</th>\n",
       "      <td>2022-11-16</td>\n",
       "      <td>ZPLU</td>\n",
       "      <td>16-11-2022 00:00</td>\n",
       "      <td>Order Delivered</td>\n",
       "      <td>17-11-2022 18:36</td>\n",
       "      <td>16-11-2022 22:14</td>\n",
       "      <td>16-11-2022 23:20</td>\n",
       "      <td>16-11-2022 23:45</td>\n",
       "      <td>17-11-2022 07:48</td>\n",
       "      <td>17-11-2022 07:48</td>\n",
       "      <td>...</td>\n",
       "      <td>17-11-2022 08:58</td>\n",
       "      <td>17-11-2022 18:36</td>\n",
       "      <td>Croma LedFHD OA 40in 1Y CREL040FOF024601</td>\n",
       "      <td>LED Panels 40\"</td>\n",
       "      <td>TV LCD</td>\n",
       "      <td>Entertainment</td>\n",
       "      <td>E-Croma LedFHD OA40in1Y CREL040FOF024601</td>\n",
       "      <td>711102.0</td>\n",
       "      <td>HOWRAH</td>\n",
       "      <td>West Bengal</td>\n",
       "    </tr>\n",
       "  </tbody>\n",
       "</table>\n",
       "<p>5 rows × 22 columns</p>\n",
       "</div>"
      ],
      "text/plain": [
       "    orderdate articletype originalreqdeliverydate    currentstatus  \\\n",
       "0  2022-11-15        ZPLU        21-11-2022 00:00  Order Delivered   \n",
       "1  2022-11-16        ZPLU        16-11-2022 00:00  Order Delivered   \n",
       "2  2022-11-16        ZPLU        16-11-2022 00:00  Order Delivered   \n",
       "3  2022-11-16        ZPLU        16-11-2022 00:00  Order Delivered   \n",
       "4  2022-11-16        ZPLU        16-11-2022 00:00  Order Delivered   \n",
       "\n",
       "  currentstatustimestamp    sale_timestamp readytopick_timestamp  \\\n",
       "0       17-11-2022 19:00  15-11-2022 18:39      15-11-2022 20:53   \n",
       "1       19-11-2022 13:28  16-11-2022 17:30      16-11-2022 18:25   \n",
       "2       21-11-2022 17:34  16-11-2022 17:59      16-11-2022 19:51   \n",
       "3       18-11-2022 15:24  16-11-2022 22:22      17-11-2022 02:22   \n",
       "4       17-11-2022 18:36  16-11-2022 22:14      16-11-2022 23:20   \n",
       "\n",
       "  readytoship_timestamp  packed_timestamp connecttocarrier_timestamp  ...  \\\n",
       "0      16-11-2022 08:15  16-11-2022 08:23           16-11-2022 08:24  ...   \n",
       "1      16-11-2022 19:34  16-11-2022 20:51           16-11-2022 20:51  ...   \n",
       "2      16-11-2022 23:41  17-11-2022 01:54           17-11-2022 01:54  ...   \n",
       "3      17-11-2022 03:40  17-11-2022 05:10           17-11-2022 05:10  ...   \n",
       "4      16-11-2022 23:45  17-11-2022 07:48           17-11-2022 07:48  ...   \n",
       "\n",
       "  outfordelivery_timestamp delivered_timestamp  \\\n",
       "0         17-11-2022 19:00    17-11-2022 19:00   \n",
       "1         19-11-2022 11:44    19-11-2022 13:28   \n",
       "2         21-11-2022 13:13    21-11-2022 17:34   \n",
       "3         18-11-2022 12:53    18-11-2022 15:24   \n",
       "4         17-11-2022 08:58    17-11-2022 18:36   \n",
       "\n",
       "                                articlename       merchcategorydescription  \\\n",
       "0   Lenovo 10.3 Tab X606V 2ndG 4+128GB Grey      Tablets & Detachables - D   \n",
       "1  SAMSUNG FF 253L RT28T3042S8/NL EL INX 2S  Refrigerator Frost Free <300L   \n",
       "2      BOAT 2.1Ch Soundbar Aavante 1550 RTL                   Sound Bars_H   \n",
       "3  Croma LedFHD OA 40in 1Y CREL040FOF024601                 LED Panels 40\"   \n",
       "4  Croma LedFHD OA 40in 1Y CREL040FOF024601                 LED Panels 40\"   \n",
       "\n",
       "   merchclassdescription  merchgroupdescription  \\\n",
       "0  Tablets & Detachables  Computers Peripherals   \n",
       "1          Refrigerators       Large Appliances   \n",
       "2           Home Theatre          Entertainment   \n",
       "3                 TV LCD          Entertainment   \n",
       "4                 TV LCD          Entertainment   \n",
       "\n",
       "                                   itemdesc shiptozipcode shiptocity  \\\n",
       "0   Lenovo 10.3 Tab X606V 2ndG 4+128GB Grey      226010.0    LUCKNOW   \n",
       "1  SAMSUNG FF 253L RT28T3042S8/NL EL INX 2S      389350.0      HALOL   \n",
       "2      BOAT 2.1Ch Soundbar Aavante 1550 RTL      493221.0     RAIPUR   \n",
       "3  E-Croma LedFHD OA40in1Y CREL040FOF024601      250001.0     MEERUT   \n",
       "4  E-Croma LedFHD OA40in1Y CREL040FOF024601      711102.0     HOWRAH   \n",
       "\n",
       "     shiptostate  \n",
       "0  Uttar Pradesh  \n",
       "1        Gujarat  \n",
       "2   Chhattisgarh  \n",
       "3  Uttar Pradesh  \n",
       "4    West Bengal  \n",
       "\n",
       "[5 rows x 22 columns]"
      ]
     },
     "execution_count": 30,
     "metadata": {},
     "output_type": "execute_result"
    }
   ],
   "source": [
    "df_dd.head()"
   ]
  },
  {
   "cell_type": "code",
   "execution_count": 31,
   "id": "855d7676-de44-46de-8781-fa90ef4aafe7",
   "metadata": {},
   "outputs": [
    {
     "name": "stdout",
     "output_type": "stream",
     "text": [
      "<class 'pandas.core.frame.DataFrame'>\n",
      "RangeIndex: 232536 entries, 0 to 232535\n",
      "Data columns (total 22 columns):\n",
      " #   Column                         Non-Null Count   Dtype  \n",
      "---  ------                         --------------   -----  \n",
      " 0   orderdate                      232536 non-null  object \n",
      " 1   articletype                    232536 non-null  object \n",
      " 2   originalreqdeliverydate        227834 non-null  object \n",
      " 3   currentstatus                  232536 non-null  object \n",
      " 4   currentstatustimestamp         232536 non-null  object \n",
      " 5   sale_timestamp                 69007 non-null   object \n",
      " 6   readytopick_timestamp          52446 non-null   object \n",
      " 7   readytoship_timestamp          50458 non-null   object \n",
      " 8   packed_timestamp               51825 non-null   object \n",
      " 9   connecttocarrier_timestamp     51554 non-null   object \n",
      " 10  handedovertocarrier_timestamp  51390 non-null   object \n",
      " 11  deliveryinprogress_timestamp   50589 non-null   object \n",
      " 12  outfordelivery_timestamp       51615 non-null   object \n",
      " 13  delivered_timestamp            232536 non-null  object \n",
      " 14  articlename                    215962 non-null  object \n",
      " 15  merchcategorydescription       220055 non-null  object \n",
      " 16  merchclassdescription          220055 non-null  object \n",
      " 17  merchgroupdescription          220055 non-null  object \n",
      " 18  itemdesc                       220355 non-null  object \n",
      " 19  shiptozipcode                  220329 non-null  float64\n",
      " 20  shiptocity                     220045 non-null  object \n",
      " 21  shiptostate                    220033 non-null  object \n",
      "dtypes: float64(1), object(21)\n",
      "memory usage: 39.0+ MB\n"
     ]
    }
   ],
   "source": [
    "# Checking for the Columns, Count and Data-types in the table\n",
    "df_dd.info()"
   ]
  },
  {
   "cell_type": "code",
   "execution_count": 32,
   "id": "b2cad5ee-75b6-44fa-a9c3-a3ad16192d9d",
   "metadata": {},
   "outputs": [
    {
     "data": {
      "text/plain": [
       "orderdate                             0\n",
       "articletype                           0\n",
       "originalreqdeliverydate            4702\n",
       "currentstatus                         0\n",
       "currentstatustimestamp                0\n",
       "sale_timestamp                   163529\n",
       "readytopick_timestamp            180090\n",
       "readytoship_timestamp            182078\n",
       "packed_timestamp                 180711\n",
       "connecttocarrier_timestamp       180982\n",
       "handedovertocarrier_timestamp    181146\n",
       "deliveryinprogress_timestamp     181947\n",
       "outfordelivery_timestamp         180921\n",
       "delivered_timestamp                   0\n",
       "articlename                       16574\n",
       "merchcategorydescription          12481\n",
       "merchclassdescription             12481\n",
       "merchgroupdescription             12481\n",
       "itemdesc                          12181\n",
       "shiptozipcode                     12207\n",
       "shiptocity                        12491\n",
       "shiptostate                       12503\n",
       "dtype: int64"
      ]
     },
     "execution_count": 32,
     "metadata": {},
     "output_type": "execute_result"
    }
   ],
   "source": [
    "# Getting the Number of NULL values in the dataset\n",
    "df_dd.isnull().sum()"
   ]
  },
  {
   "cell_type": "code",
   "execution_count": 33,
   "id": "f406f054-d31a-4ae8-b685-1b3df06af390",
   "metadata": {},
   "outputs": [
    {
     "name": "stdout",
     "output_type": "stream",
     "text": [
      "Percentile of NaN values in each column:\n",
      "readytoship_timestamp: 78.30%\n",
      "deliveryinprogress_timestamp: 78.24%\n",
      "handedovertocarrier_timestamp: 77.90%\n",
      "connecttocarrier_timestamp: 77.83%\n",
      "outfordelivery_timestamp: 77.80%\n",
      "packed_timestamp: 77.71%\n",
      "readytopick_timestamp: 77.45%\n",
      "sale_timestamp: 70.32%\n",
      "articlename: 7.13%\n",
      "shiptostate: 5.38%\n",
      "shiptocity: 5.37%\n",
      "merchcategorydescription: 5.37%\n",
      "merchclassdescription: 5.37%\n",
      "merchgroupdescription: 5.37%\n",
      "shiptozipcode: 5.25%\n",
      "itemdesc: 5.24%\n",
      "originalreqdeliverydate: 2.02%\n",
      "orderdate: 0.00%\n",
      "articletype: 0.00%\n",
      "currentstatus: 0.00%\n",
      "currentstatustimestamp: 0.00%\n",
      "delivered_timestamp: 0.00%\n"
     ]
    }
   ],
   "source": [
    "# Getting the percentage of NaN values\n",
    "nan_percentiles_Delivery_Data = []\n",
    "for col in df_dd.columns:\n",
    "    nan_percentage = df_dd[col].isnull().mean() * 100\n",
    "    nan_percentiles_Delivery_Data.append((col, nan_percentage))\n",
    "    \n",
    "nan_percentiles_Delivery_Data.sort(key=lambda x: x[1], reverse=True)\n",
    "\n",
    "print(\"Percentile of NaN values in each column:\")\n",
    "for col, nan_percentage in nan_percentiles_Delivery_Data:\n",
    "    print(f\"{col}: {nan_percentage:.2f}%\")"
   ]
  },
  {
   "cell_type": "code",
   "execution_count": 34,
   "id": "0e3813fe-0fb2-4653-a6f2-3d232b55afdc",
   "metadata": {},
   "outputs": [],
   "source": [
    "columns_to_drop=['readytoship_timestamp','deliveryinprogress_timestamp','readytopick_timestamp','handedovertocarrier_timestamp',\n",
    "                 'connecttocarrier_timestamp','outfordelivery_timestamp','packed_timestamp']\n",
    "df_dd=df_dd.drop(columns=columns_to_drop)"
   ]
  },
  {
   "cell_type": "markdown",
   "id": "8517fe7b-a82b-4751-9759-08aad99f0213",
   "metadata": {},
   "source": [
    "Dropping the above columns since the percentage of NaN values is more then 75% which is not useful for our analysis."
   ]
  },
  {
   "cell_type": "code",
   "execution_count": 35,
   "id": "75746522-c4bf-4adc-928c-4eeceba290bc",
   "metadata": {},
   "outputs": [],
   "source": [
    "NaN_Value_columns = ['articlename','shiptocity','originalreqdeliverydate',\n",
    "                    'merchcategorydescription','merchclassdescription','merchgroupdescription']\n",
    "df_dd = df_dd.dropna(subset=NaN_Value_columns)"
   ]
  },
  {
   "cell_type": "markdown",
   "id": "b4bc6e01-db6d-47c8-bba6-4891048efbc7",
   "metadata": {},
   "source": [
    "Dropped the NaN values from 'articlename','shiptocity','originalreqdeliverydate','merchcategorydescription','merchclassdescription','merchgroupdescription' because the percentage of NaN values is very less which won't affect our analysis."
   ]
  },
  {
   "cell_type": "code",
   "execution_count": 36,
   "id": "ad9d0aa5-6c64-4160-81d3-a4961618e43e",
   "metadata": {},
   "outputs": [],
   "source": [
    "date_columns = ['orderdate', 'originalreqdeliverydate', 'currentstatustimestamp', 'sale_timestamp','delivered_timestamp']\n",
    "df_dd[date_columns] = df_dd[date_columns].apply(pd.to_datetime)"
   ]
  },
  {
   "cell_type": "markdown",
   "id": "5c11939a-c17f-4f83-b836-d5c8ba384073",
   "metadata": {},
   "source": [
    "Converted the Data-Types of the above columns into datatime format"
   ]
  },
  {
   "cell_type": "code",
   "execution_count": 37,
   "id": "40fa981c-55b0-4e21-b310-9b8b7c0d243f",
   "metadata": {},
   "outputs": [],
   "source": [
    "# Converting the Data-Types of Respective Columns\n",
    "df_dd['articletype'] = df_dd['articletype'].astype('category')\n",
    "df_dd['currentstatus'] = df_dd['currentstatus'].astype('category')\n",
    "df_dd['articlename'] = df_dd['articlename'].astype('category')\n",
    "df_dd['merchcategorydescription'] = df_dd['merchcategorydescription'].astype('category')          \n",
    "df_dd['merchclassdescription'] = df_dd['merchclassdescription'].astype('category')                  \n",
    "df_dd['merchgroupdescription'] = df_dd['merchgroupdescription'].astype('category')                  \n",
    "df_dd['itemdesc'] = df_dd['itemdesc'].astype('category')\n",
    "df_dd['shiptocity'] = df_dd['shiptocity'].astype('category')\n",
    "df_dd['shiptostate'] = df_dd['shiptostate'].astype('category')"
   ]
  },
  {
   "cell_type": "code",
   "execution_count": 38,
   "id": "8d514eb7-fe9f-4993-abcf-396d59782102",
   "metadata": {},
   "outputs": [],
   "source": [
    "df_dd['sale_timestamp'] = df_dd.apply(\n",
    "    lambda row: row['orderdate'] if pd.isnull(row['sale_timestamp']) else row['sale_timestamp'], axis=1)"
   ]
  },
  {
   "cell_type": "markdown",
   "id": "424a24dc-1340-42c7-ac23-e4bdfc83ad28",
   "metadata": {},
   "source": [
    "**The above step will ensure that the NULL values in the 'sale_timestamp' is been filled with the dates same as 'orderdate' because both of them shares the same dates**"
   ]
  },
  {
   "cell_type": "code",
   "execution_count": 39,
   "id": "fc16a692-7b0c-4732-acbc-02cfd10c94ed",
   "metadata": {},
   "outputs": [
    {
     "data": {
      "text/plain": [
       "0"
      ]
     },
     "execution_count": 39,
     "metadata": {},
     "output_type": "execute_result"
    }
   ],
   "source": [
    "df_dd['sale_timestamp'].isnull().sum()"
   ]
  },
  {
   "cell_type": "markdown",
   "id": "dd30de86-a55c-48bc-9f2a-e66b561d2514",
   "metadata": {},
   "source": [
    "Now trying the Forward and Backward filling Technique to handle NaN values in 'shiptostate' column"
   ]
  },
  {
   "cell_type": "code",
   "execution_count": 40,
   "id": "cbb051b6-83db-4d15-be7a-8c86940eb949",
   "metadata": {},
   "outputs": [],
   "source": [
    "df_dd = df_dd.sort_values(by='shiptozipcode')\n",
    "\n",
    "# Forward filling NaN values in shiptostate column based on shiptozipcode column\n",
    "df_dd['shiptostate'] = df_dd.groupby('shiptozipcode')['shiptostate'].fillna(method='ffill')\n",
    "\n",
    "# Backward filling remaining NaN values in shiptostate column based on shiptozipcode column\n",
    "df_dd['shiptostate'] = df_dd.groupby('shiptozipcode')['shiptostate'].fillna(method='bfill')"
   ]
  },
  {
   "cell_type": "code",
   "execution_count": 41,
   "id": "1f3e34af-70f9-465c-ac95-eb5077472f8f",
   "metadata": {},
   "outputs": [
    {
     "name": "stdout",
     "output_type": "stream",
     "text": [
      "Percentile of NaN values in each column:\n",
      "shiptozipcode: 0.01%\n",
      "shiptostate: 0.01%\n",
      "orderdate: 0.00%\n",
      "articletype: 0.00%\n",
      "originalreqdeliverydate: 0.00%\n",
      "currentstatus: 0.00%\n",
      "currentstatustimestamp: 0.00%\n",
      "sale_timestamp: 0.00%\n",
      "delivered_timestamp: 0.00%\n",
      "articlename: 0.00%\n",
      "merchcategorydescription: 0.00%\n",
      "merchclassdescription: 0.00%\n",
      "merchgroupdescription: 0.00%\n",
      "itemdesc: 0.00%\n",
      "shiptocity: 0.00%\n"
     ]
    }
   ],
   "source": [
    "nan_percentiles_Delivery_Data = []\n",
    "for col in df_dd.columns:\n",
    "    nan_percentage = df_dd[col].isnull().mean() * 100\n",
    "    nan_percentiles_Delivery_Data.append((col, nan_percentage))\n",
    "    \n",
    "nan_percentiles_Delivery_Data.sort(key=lambda x: x[1], reverse=True)\n",
    "\n",
    "print(\"Percentile of NaN values in each column:\")\n",
    "for col, nan_percentage in nan_percentiles_Delivery_Data:\n",
    "    print(f\"{col}: {nan_percentage:.2f}%\")"
   ]
  },
  {
   "cell_type": "code",
   "execution_count": 42,
   "id": "2d1e01b9-734b-42e0-8e61-9d673ddad1ce",
   "metadata": {},
   "outputs": [],
   "source": [
    "# Since the percentile of NaN value has not changed significantly after doing Forward and Backward filling method \n",
    "# so now droping the NaN values.\n",
    "coll = ['shiptozipcode','shiptostate']\n",
    "df_dd = df_dd.dropna(subset=coll)"
   ]
  },
  {
   "cell_type": "code",
   "execution_count": 43,
   "id": "74ed2508-6081-4b2c-9494-736d0ccac6cd",
   "metadata": {},
   "outputs": [
    {
     "data": {
      "text/plain": [
       "orderdate                   0\n",
       "articletype                 0\n",
       "originalreqdeliverydate     0\n",
       "currentstatus               0\n",
       "currentstatustimestamp      0\n",
       "sale_timestamp              0\n",
       "delivered_timestamp         0\n",
       "articlename                 0\n",
       "merchcategorydescription    0\n",
       "merchclassdescription       0\n",
       "merchgroupdescription       0\n",
       "itemdesc                    0\n",
       "shiptozipcode               0\n",
       "shiptocity                  0\n",
       "shiptostate                 0\n",
       "dtype: int64"
      ]
     },
     "execution_count": 43,
     "metadata": {},
     "output_type": "execute_result"
    }
   ],
   "source": [
    "df_dd.isnull().sum()"
   ]
  },
  {
   "cell_type": "markdown",
   "id": "c59cf489-6975-4f6a-a96d-6a8d11b219ee",
   "metadata": {},
   "source": [
    "**From the above step it is clear that there are NO NULL values in our dataset**"
   ]
  },
  {
   "cell_type": "markdown",
   "id": "54cca68b-221a-4324-a9c3-6939fb3234c6",
   "metadata": {},
   "source": [
    "**Now converting the above cleaned dataset into new CSV file**"
   ]
  },
  {
   "cell_type": "code",
   "execution_count": 44,
   "id": "288f9774-e816-4637-bb7b-7c5da0fc8885",
   "metadata": {},
   "outputs": [],
   "source": [
    "df_dd.to_csv('Cleaned_Customer_Delivery_Data.csv', index=False)"
   ]
  },
  {
   "cell_type": "code",
   "execution_count": null,
   "id": "41440937-000e-4a0a-987e-92cb45bb88d9",
   "metadata": {},
   "outputs": [],
   "source": []
  },
  {
   "cell_type": "markdown",
   "id": "ed90f709-ca85-471e-b7d4-3edd5eb6e060",
   "metadata": {},
   "source": [
    "**Details regarding the data:-**\n",
    "\n",
    "**Customer Master File:** This table contains the customer details available for each Customer ID – like DOB, Gender, Marital Status, Address Pincode, etc."
   ]
  },
  {
   "cell_type": "code",
   "execution_count": 45,
   "id": "034a981d-df43-4533-b80d-ff5890557915",
   "metadata": {},
   "outputs": [],
   "source": [
    "# Loading CSV file into DataFrame\n",
    "df_md = pd.read_csv(\"C:/Users/Omen/OneDrive/Documents/Final Project/wetransfer_campaign_data-csv_2024-04-13_0433/Customer_Master_Data.csv\")"
   ]
  },
  {
   "cell_type": "code",
   "execution_count": 46,
   "id": "364c5ba3-d8ca-4c86-9682-7515c8fbaa15",
   "metadata": {},
   "outputs": [
    {
     "name": "stdout",
     "output_type": "stream",
     "text": [
      "<class 'pandas.core.frame.DataFrame'>\n",
      "RangeIndex: 502121 entries, 0 to 502120\n",
      "Data columns (total 5 columns):\n",
      " #   Column          Non-Null Count   Dtype \n",
      "---  ------          --------------   ----- \n",
      " 0   CustID          502121 non-null  object\n",
      " 1   Gender          364467 non-null  object\n",
      " 2   Marital_Status  67995 non-null   object\n",
      " 3   Pincode         492249 non-null  object\n",
      " 4   State           492181 non-null  object\n",
      "dtypes: object(5)\n",
      "memory usage: 19.2+ MB\n"
     ]
    }
   ],
   "source": [
    "# Checking for the Columns, Count and Data-types in the table\n",
    "df_md.info()"
   ]
  },
  {
   "cell_type": "code",
   "execution_count": 47,
   "id": "e57c96da-5471-47ed-8431-44cd0219fb3c",
   "metadata": {},
   "outputs": [
    {
     "data": {
      "text/html": [
       "<div>\n",
       "<style scoped>\n",
       "    .dataframe tbody tr th:only-of-type {\n",
       "        vertical-align: middle;\n",
       "    }\n",
       "\n",
       "    .dataframe tbody tr th {\n",
       "        vertical-align: top;\n",
       "    }\n",
       "\n",
       "    .dataframe thead th {\n",
       "        text-align: right;\n",
       "    }\n",
       "</style>\n",
       "<table border=\"1\" class=\"dataframe\">\n",
       "  <thead>\n",
       "    <tr style=\"text-align: right;\">\n",
       "      <th></th>\n",
       "      <th>CustID</th>\n",
       "      <th>Gender</th>\n",
       "      <th>Marital_Status</th>\n",
       "      <th>Pincode</th>\n",
       "      <th>State</th>\n",
       "    </tr>\n",
       "  </thead>\n",
       "  <tbody>\n",
       "    <tr>\n",
       "      <th>0</th>\n",
       "      <td>7teAttAeH</td>\n",
       "      <td>NaN</td>\n",
       "      <td>NaN</td>\n",
       "      <td>678506.0</td>\n",
       "      <td>Keral</td>\n",
       "    </tr>\n",
       "    <tr>\n",
       "      <th>1</th>\n",
       "      <td>7t8tJJHt7</td>\n",
       "      <td>NaN</td>\n",
       "      <td>NaN</td>\n",
       "      <td>770001.0</td>\n",
       "      <td>Odisha</td>\n",
       "    </tr>\n",
       "    <tr>\n",
       "      <th>2</th>\n",
       "      <td>787t17tJt</td>\n",
       "      <td>NaN</td>\n",
       "      <td>NaN</td>\n",
       "      <td>245101.0</td>\n",
       "      <td>Uttar Pradesh</td>\n",
       "    </tr>\n",
       "    <tr>\n",
       "      <th>3</th>\n",
       "      <td>787ttJtHH</td>\n",
       "      <td>NaN</td>\n",
       "      <td>NaN</td>\n",
       "      <td>673008.0</td>\n",
       "      <td>Keral</td>\n",
       "    </tr>\n",
       "    <tr>\n",
       "      <th>4</th>\n",
       "      <td>7878HHoHo</td>\n",
       "      <td>NaN</td>\n",
       "      <td>NaN</td>\n",
       "      <td>501510.0</td>\n",
       "      <td>Telangana</td>\n",
       "    </tr>\n",
       "  </tbody>\n",
       "</table>\n",
       "</div>"
      ],
      "text/plain": [
       "      CustID Gender Marital_Status   Pincode          State\n",
       "0  7teAttAeH    NaN            NaN  678506.0          Keral\n",
       "1  7t8tJJHt7    NaN            NaN  770001.0         Odisha\n",
       "2  787t17tJt    NaN            NaN  245101.0  Uttar Pradesh\n",
       "3  787ttJtHH    NaN            NaN  673008.0          Keral\n",
       "4  7878HHoHo    NaN            NaN  501510.0      Telangana"
      ]
     },
     "execution_count": 47,
     "metadata": {},
     "output_type": "execute_result"
    }
   ],
   "source": [
    "df_md.head()"
   ]
  },
  {
   "cell_type": "code",
   "execution_count": 48,
   "id": "7c85198c-8856-4de7-b7a8-ffe5eed07ce3",
   "metadata": {},
   "outputs": [
    {
     "data": {
      "text/plain": [
       "CustID                 0\n",
       "Gender            137654\n",
       "Marital_Status    434126\n",
       "Pincode             9872\n",
       "State               9940\n",
       "dtype: int64"
      ]
     },
     "execution_count": 48,
     "metadata": {},
     "output_type": "execute_result"
    }
   ],
   "source": [
    "# Getting the Number of NULL values in the dataset\n",
    "df_md.isnull().sum()"
   ]
  },
  {
   "cell_type": "code",
   "execution_count": 49,
   "id": "20ac1108-2036-42e7-a5d8-daf2514deb9f",
   "metadata": {},
   "outputs": [
    {
     "name": "stdout",
     "output_type": "stream",
     "text": [
      "Percentile of NaN values in each column:\n",
      "Marital_Status: 86.46%\n",
      "Gender: 27.41%\n",
      "State: 1.98%\n",
      "Pincode: 1.97%\n",
      "CustID: 0.00%\n"
     ]
    }
   ],
   "source": [
    "# Getting the percentage of NaN values\n",
    "Nan_percentiles = []\n",
    "for col in df_md.columns:\n",
    "    nan_percentage = df_md[col].isnull().mean() * 100\n",
    "    Nan_percentiles.append((col, nan_percentage))\n",
    "    \n",
    "Nan_percentiles.sort(key=lambda x: x[1], reverse=True)\n",
    "\n",
    "print(\"Percentile of NaN values in each column:\")\n",
    "for col, nan_percentage in Nan_percentiles:\n",
    "    print(f\"{col}: {nan_percentage:.2f}%\")"
   ]
  },
  {
   "cell_type": "markdown",
   "id": "ece7837d-abdc-44ab-933f-ca7629ba808b",
   "metadata": {},
   "source": [
    "**Now we will treat the columns with higher NaN percentile and also the columns with extremely lower NaN percentile.**"
   ]
  },
  {
   "cell_type": "code",
   "execution_count": 50,
   "id": "ea4333d0-2d74-4571-94e5-b26f8f80cae1",
   "metadata": {},
   "outputs": [],
   "source": [
    "df_md.drop(columns=['Marital_Status'], inplace=True)"
   ]
  },
  {
   "cell_type": "markdown",
   "id": "d0add4a5-a8d9-43d9-b9d2-0f1bc7fb6cf1",
   "metadata": {},
   "source": [
    "Dropping the column \"Marital_Status\" since the percentage of NaN values is 86.46% which is not useful for our analysis.\r\n"
   ]
  },
  {
   "cell_type": "code",
   "execution_count": 51,
   "id": "15e3fb6c-035f-4044-a073-eaef7c9562e4",
   "metadata": {},
   "outputs": [],
   "source": [
    "Nan_columns = ['State', 'Pincode']\n",
    "df_md = df_md.dropna(subset=Nan_columns)"
   ]
  },
  {
   "cell_type": "markdown",
   "id": "760e656e-7fdb-4ee8-87dd-0a6a9d7ce7f2",
   "metadata": {},
   "source": [
    "Dropped the NaN values from 'State', 'Pincode' because the percentage of NaN values is less then 3% (Standard Value)"
   ]
  },
  {
   "cell_type": "code",
   "execution_count": 52,
   "id": "160c0928-3db3-42d5-859b-f5f4a0915228",
   "metadata": {},
   "outputs": [],
   "source": [
    "# Replacing blank spaces with 'DEFAULT' for the Gender Column since the percentage of NaN values is 27.41% which cannot be dropped.\n",
    "df_md['Gender'] = df_md['Gender'].fillna('DEFAULT')"
   ]
  },
  {
   "cell_type": "code",
   "execution_count": 53,
   "id": "69f33911-5570-4d07-8a75-d51755f96c01",
   "metadata": {},
   "outputs": [
    {
     "name": "stdout",
     "output_type": "stream",
     "text": [
      "Percentile of NaN values in each column:\n",
      "CustID: 0.00%\n",
      "Gender: 0.00%\n",
      "Pincode: 0.00%\n",
      "State: 0.00%\n"
     ]
    }
   ],
   "source": [
    "# Getting the percentage of NaN values\n",
    "Nan_percentiles = []\n",
    "for col in df_md.columns:\n",
    "    nan_percentage = df_md[col].isnull().mean() * 100\n",
    "    Nan_percentiles.append((col, nan_percentage))\n",
    "    \n",
    "Nan_percentiles.sort(key=lambda x: x[1], reverse=True)\n",
    "\n",
    "print(\"Percentile of NaN values in each column:\")\n",
    "for col, nan_percentage in Nan_percentiles:\n",
    "    print(f\"{col}: {nan_percentage:.2f}%\")"
   ]
  },
  {
   "cell_type": "markdown",
   "id": "bfbda0c3-fd37-45df-a958-1cb3feeff33b",
   "metadata": {},
   "source": [
    "**From the above step it is clear that there are NO NULL values in our dataset**"
   ]
  },
  {
   "cell_type": "code",
   "execution_count": 54,
   "id": "2d5bffda-fc09-46aa-a1b0-cc4b2604d45b",
   "metadata": {},
   "outputs": [],
   "source": [
    "df_md.to_csv('Cleaned_Customer_Master_Data.csv', index=False)"
   ]
  },
  {
   "cell_type": "code",
   "execution_count": null,
   "id": "318e4fab-2c49-4db5-9eac-21bc2e6f129b",
   "metadata": {},
   "outputs": [],
   "source": []
  },
  {
   "cell_type": "code",
   "execution_count": 79,
   "id": "db218859-6598-42a6-8443-1ee026e8e77c",
   "metadata": {},
   "outputs": [],
   "source": [
    "df_fd = pd.read_csv('C:/Users/Omen/OneDrive/Documents/Final Project/TechNova Sales Insights/filtered_data.csv')"
   ]
  },
  {
   "cell_type": "code",
   "execution_count": 80,
   "id": "3bf47be5-b77e-49f3-b355-9020e0e20bfb",
   "metadata": {},
   "outputs": [
    {
     "data": {
      "text/html": [
       "<div>\n",
       "<style scoped>\n",
       "    .dataframe tbody tr th:only-of-type {\n",
       "        vertical-align: middle;\n",
       "    }\n",
       "\n",
       "    .dataframe tbody tr th {\n",
       "        vertical-align: top;\n",
       "    }\n",
       "\n",
       "    .dataframe thead th {\n",
       "        text-align: right;\n",
       "    }\n",
       "</style>\n",
       "<table border=\"1\" class=\"dataframe\">\n",
       "  <thead>\n",
       "    <tr style=\"text-align: right;\">\n",
       "      <th></th>\n",
       "      <th>CustID</th>\n",
       "      <th>ItemDesc</th>\n",
       "      <th>MerchCategoryDescription</th>\n",
       "      <th>MerchClassDescription</th>\n",
       "      <th>MerchGroupDescription</th>\n",
       "      <th>SaleValue</th>\n",
       "      <th>OrderedQuantity</th>\n",
       "      <th>OrderDate</th>\n",
       "      <th>SalesChannelCode</th>\n",
       "      <th>Ecom_BnM_Indicator</th>\n",
       "      <th>StoreID</th>\n",
       "      <th>StoreCode</th>\n",
       "      <th>StoreCity</th>\n",
       "      <th>StoreState</th>\n",
       "      <th>StorePincode</th>\n",
       "      <th>Log_OrderedQuantity</th>\n",
       "      <th>Sqrt_SaleValue</th>\n",
       "      <th>Month</th>\n",
       "      <th>Year</th>\n",
       "      <th>Segment</th>\n",
       "    </tr>\n",
       "  </thead>\n",
       "  <tbody>\n",
       "    <tr>\n",
       "      <th>0</th>\n",
       "      <td>JFRGRFjeEJVG8RJF8R1Foj8AJJ7Et8oH</td>\n",
       "      <td>APPLE PROTECTION PLAN MACBOOK PRO</td>\n",
       "      <td>APPLE PROTECTION PLAN MACBOOK PRO</td>\n",
       "      <td>Mobile Computing</td>\n",
       "      <td>Computers Peripherals</td>\n",
       "      <td>25398.0001</td>\n",
       "      <td>1.0001</td>\n",
       "      <td>2019-01-01</td>\n",
       "      <td>RS</td>\n",
       "      <td>B&amp;M</td>\n",
       "      <td>83.0</td>\n",
       "      <td>A129</td>\n",
       "      <td>Pune</td>\n",
       "      <td>Maharashtra</td>\n",
       "      <td>411014</td>\n",
       "      <td>0.0001</td>\n",
       "      <td>159.367500</td>\n",
       "      <td>1</td>\n",
       "      <td>2019</td>\n",
       "      <td>Mainstream</td>\n",
       "    </tr>\n",
       "    <tr>\n",
       "      <th>1</th>\n",
       "      <td>JFRGRFjeEJVG8RJF8R1Foj8AJJ7Et8oH</td>\n",
       "      <td>MacBook Pro 16 2.6GH i7 9G 16GB 512GB SG</td>\n",
       "      <td>MacBook Pro 16 2.6GH i7 9G 16GB 512GB SG</td>\n",
       "      <td>Mobile Computing</td>\n",
       "      <td>Computers Peripherals</td>\n",
       "      <td>193703.1001</td>\n",
       "      <td>1.0001</td>\n",
       "      <td>2019-01-01</td>\n",
       "      <td>RS</td>\n",
       "      <td>B&amp;M</td>\n",
       "      <td>83.0</td>\n",
       "      <td>A129</td>\n",
       "      <td>Pune</td>\n",
       "      <td>Maharashtra</td>\n",
       "      <td>411014</td>\n",
       "      <td>0.0001</td>\n",
       "      <td>440.117144</td>\n",
       "      <td>1</td>\n",
       "      <td>2019</td>\n",
       "      <td>Premium</td>\n",
       "    </tr>\n",
       "    <tr>\n",
       "      <th>2</th>\n",
       "      <td>V1AG7tA7E1tMVjt7tVH7JARR11AVotet</td>\n",
       "      <td>Samsung Galaxy A70 S 6GB White</td>\n",
       "      <td>Samsung Galaxy A70 S 6GB White</td>\n",
       "      <td>Smart Phones (OS Based)</td>\n",
       "      <td>Communication</td>\n",
       "      <td>26518.9801</td>\n",
       "      <td>1.0001</td>\n",
       "      <td>2019-01-01</td>\n",
       "      <td>RS</td>\n",
       "      <td>B&amp;M</td>\n",
       "      <td>79.0</td>\n",
       "      <td>A122</td>\n",
       "      <td>Ghaziabad</td>\n",
       "      <td>Delhi NCR</td>\n",
       "      <td>201001</td>\n",
       "      <td>0.0001</td>\n",
       "      <td>162.846492</td>\n",
       "      <td>1</td>\n",
       "      <td>2019</td>\n",
       "      <td>Mainstream</td>\n",
       "    </tr>\n",
       "    <tr>\n",
       "      <th>3</th>\n",
       "      <td>tAEVH8jEG1Eoe1GE1JEojJetVtMGFjto</td>\n",
       "      <td>DELL New bag pack</td>\n",
       "      <td>DELL New bag pack</td>\n",
       "      <td>Mobile Computing</td>\n",
       "      <td>Computers Peripherals</td>\n",
       "      <td>1120.9801</td>\n",
       "      <td>1.0001</td>\n",
       "      <td>2019-01-01</td>\n",
       "      <td>RS</td>\n",
       "      <td>B&amp;M</td>\n",
       "      <td>8.0</td>\n",
       "      <td>A010</td>\n",
       "      <td>Surat</td>\n",
       "      <td>Gujarat</td>\n",
       "      <td>395007</td>\n",
       "      <td>0.0001</td>\n",
       "      <td>33.481041</td>\n",
       "      <td>1</td>\n",
       "      <td>2019</td>\n",
       "      <td>Value</td>\n",
       "    </tr>\n",
       "    <tr>\n",
       "      <th>4</th>\n",
       "      <td>RV18RMMHAVjJoe78eGjtAVV1RAM7AoEE</td>\n",
       "      <td>HP Pav 15-dk0046TX 9Gi5 8GB4X 256GB +Off</td>\n",
       "      <td>HP Pav 15-dk0046TX 9Gi5 8GB4X 256GB +Off</td>\n",
       "      <td>Gaming Laptops</td>\n",
       "      <td>Computers Peripherals</td>\n",
       "      <td>66085.8001</td>\n",
       "      <td>1.0001</td>\n",
       "      <td>2019-01-01</td>\n",
       "      <td>RS</td>\n",
       "      <td>B&amp;M</td>\n",
       "      <td>24.0</td>\n",
       "      <td>A032</td>\n",
       "      <td>New Delhi</td>\n",
       "      <td>Delhi NCR</td>\n",
       "      <td>110007</td>\n",
       "      <td>0.0001</td>\n",
       "      <td>257.071586</td>\n",
       "      <td>1</td>\n",
       "      <td>2019</td>\n",
       "      <td>Mainstream</td>\n",
       "    </tr>\n",
       "  </tbody>\n",
       "</table>\n",
       "</div>"
      ],
      "text/plain": [
       "                             CustID                                  ItemDesc  \\\n",
       "0  JFRGRFjeEJVG8RJF8R1Foj8AJJ7Et8oH         APPLE PROTECTION PLAN MACBOOK PRO   \n",
       "1  JFRGRFjeEJVG8RJF8R1Foj8AJJ7Et8oH  MacBook Pro 16 2.6GH i7 9G 16GB 512GB SG   \n",
       "2  V1AG7tA7E1tMVjt7tVH7JARR11AVotet            Samsung Galaxy A70 S 6GB White   \n",
       "3  tAEVH8jEG1Eoe1GE1JEojJetVtMGFjto                         DELL New bag pack   \n",
       "4  RV18RMMHAVjJoe78eGjtAVV1RAM7AoEE  HP Pav 15-dk0046TX 9Gi5 8GB4X 256GB +Off   \n",
       "\n",
       "                   MerchCategoryDescription    MerchClassDescription  \\\n",
       "0         APPLE PROTECTION PLAN MACBOOK PRO         Mobile Computing   \n",
       "1  MacBook Pro 16 2.6GH i7 9G 16GB 512GB SG         Mobile Computing   \n",
       "2            Samsung Galaxy A70 S 6GB White  Smart Phones (OS Based)   \n",
       "3                         DELL New bag pack         Mobile Computing   \n",
       "4  HP Pav 15-dk0046TX 9Gi5 8GB4X 256GB +Off           Gaming Laptops   \n",
       "\n",
       "   MerchGroupDescription    SaleValue  OrderedQuantity   OrderDate  \\\n",
       "0  Computers Peripherals   25398.0001           1.0001  2019-01-01   \n",
       "1  Computers Peripherals  193703.1001           1.0001  2019-01-01   \n",
       "2          Communication   26518.9801           1.0001  2019-01-01   \n",
       "3  Computers Peripherals    1120.9801           1.0001  2019-01-01   \n",
       "4  Computers Peripherals   66085.8001           1.0001  2019-01-01   \n",
       "\n",
       "  SalesChannelCode Ecom_BnM_Indicator  StoreID StoreCode  StoreCity  \\\n",
       "0               RS                B&M     83.0      A129       Pune   \n",
       "1               RS                B&M     83.0      A129       Pune   \n",
       "2               RS                B&M     79.0      A122  Ghaziabad   \n",
       "3               RS                B&M      8.0      A010      Surat   \n",
       "4               RS                B&M     24.0      A032  New Delhi   \n",
       "\n",
       "    StoreState StorePincode  Log_OrderedQuantity  Sqrt_SaleValue  Month  Year  \\\n",
       "0  Maharashtra       411014               0.0001      159.367500      1  2019   \n",
       "1  Maharashtra       411014               0.0001      440.117144      1  2019   \n",
       "2    Delhi NCR       201001               0.0001      162.846492      1  2019   \n",
       "3      Gujarat       395007               0.0001       33.481041      1  2019   \n",
       "4    Delhi NCR       110007               0.0001      257.071586      1  2019   \n",
       "\n",
       "      Segment  \n",
       "0  Mainstream  \n",
       "1     Premium  \n",
       "2  Mainstream  \n",
       "3       Value  \n",
       "4  Mainstream  "
      ]
     },
     "execution_count": 80,
     "metadata": {},
     "output_type": "execute_result"
    }
   ],
   "source": [
    "df_fd.head()"
   ]
  },
  {
   "cell_type": "code",
   "execution_count": 81,
   "id": "e1ac4803-539d-4263-b686-dd3839b582ca",
   "metadata": {},
   "outputs": [
    {
     "name": "stdout",
     "output_type": "stream",
     "text": [
      "<class 'pandas.core.frame.DataFrame'>\n",
      "RangeIndex: 453108 entries, 0 to 453107\n",
      "Data columns (total 20 columns):\n",
      " #   Column                    Non-Null Count   Dtype  \n",
      "---  ------                    --------------   -----  \n",
      " 0   CustID                    453108 non-null  object \n",
      " 1   ItemDesc                  453108 non-null  object \n",
      " 2   MerchCategoryDescription  453108 non-null  object \n",
      " 3   MerchClassDescription     453108 non-null  object \n",
      " 4   MerchGroupDescription     453108 non-null  object \n",
      " 5   SaleValue                 453107 non-null  float64\n",
      " 6   OrderedQuantity           453108 non-null  float64\n",
      " 7   OrderDate                 453108 non-null  object \n",
      " 8   SalesChannelCode          453108 non-null  object \n",
      " 9   Ecom_BnM_Indicator        453108 non-null  object \n",
      " 10  StoreID                   453100 non-null  float64\n",
      " 11  StoreCode                 453107 non-null  object \n",
      " 12  StoreCity                 453108 non-null  object \n",
      " 13  StoreState                453108 non-null  object \n",
      " 14  StorePincode              453108 non-null  object \n",
      " 15  Log_OrderedQuantity       453108 non-null  float64\n",
      " 16  Sqrt_SaleValue            453107 non-null  float64\n",
      " 17  Month                     453108 non-null  int64  \n",
      " 18  Year                      453108 non-null  int64  \n",
      " 19  Segment                   453107 non-null  object \n",
      "dtypes: float64(5), int64(2), object(13)\n",
      "memory usage: 69.1+ MB\n"
     ]
    }
   ],
   "source": [
    "df_fd.info()"
   ]
  },
  {
   "cell_type": "code",
   "execution_count": 82,
   "id": "f770193c-9138-4f97-98e6-c7397f57871e",
   "metadata": {},
   "outputs": [
    {
     "data": {
      "text/plain": [
       "CustID                      0\n",
       "ItemDesc                    0\n",
       "MerchCategoryDescription    0\n",
       "MerchClassDescription       0\n",
       "MerchGroupDescription       0\n",
       "SaleValue                   1\n",
       "OrderedQuantity             0\n",
       "OrderDate                   0\n",
       "SalesChannelCode            0\n",
       "Ecom_BnM_Indicator          0\n",
       "StoreID                     8\n",
       "StoreCode                   1\n",
       "StoreCity                   0\n",
       "StoreState                  0\n",
       "StorePincode                0\n",
       "Log_OrderedQuantity         0\n",
       "Sqrt_SaleValue              1\n",
       "Month                       0\n",
       "Year                        0\n",
       "Segment                     1\n",
       "dtype: int64"
      ]
     },
     "execution_count": 82,
     "metadata": {},
     "output_type": "execute_result"
    }
   ],
   "source": [
    "df_fd.isna().sum()"
   ]
  },
  {
   "cell_type": "code",
   "execution_count": 83,
   "id": "09d8dd2c-4a92-4145-8488-e90f3f50410b",
   "metadata": {},
   "outputs": [],
   "source": [
    "Col_to_drop = ['ItemDesc','MerchCategoryDescription','MerchClassDescription','MerchGroupDescription','SalesChannelCode',\n",
    "              'Ecom_BnM_Indicator','StoreID','StoreCode','StoreCity','StoreState','StorePincode','Log_OrderedQuantity','Sqrt_SaleValue',]\n",
    "\n",
    "df_fd = df_fd.drop(columns=Col_to_drop)"
   ]
  },
  {
   "cell_type": "code",
   "execution_count": 84,
   "id": "044ec108-f379-4910-89ba-f9a164d1d66d",
   "metadata": {},
   "outputs": [
    {
     "data": {
      "text/html": [
       "<div>\n",
       "<style scoped>\n",
       "    .dataframe tbody tr th:only-of-type {\n",
       "        vertical-align: middle;\n",
       "    }\n",
       "\n",
       "    .dataframe tbody tr th {\n",
       "        vertical-align: top;\n",
       "    }\n",
       "\n",
       "    .dataframe thead th {\n",
       "        text-align: right;\n",
       "    }\n",
       "</style>\n",
       "<table border=\"1\" class=\"dataframe\">\n",
       "  <thead>\n",
       "    <tr style=\"text-align: right;\">\n",
       "      <th></th>\n",
       "      <th>CustID</th>\n",
       "      <th>SaleValue</th>\n",
       "      <th>OrderedQuantity</th>\n",
       "      <th>OrderDate</th>\n",
       "      <th>Month</th>\n",
       "      <th>Year</th>\n",
       "      <th>Segment</th>\n",
       "    </tr>\n",
       "  </thead>\n",
       "  <tbody>\n",
       "    <tr>\n",
       "      <th>0</th>\n",
       "      <td>JFRGRFjeEJVG8RJF8R1Foj8AJJ7Et8oH</td>\n",
       "      <td>25398.0001</td>\n",
       "      <td>1.0001</td>\n",
       "      <td>2019-01-01</td>\n",
       "      <td>1</td>\n",
       "      <td>2019</td>\n",
       "      <td>Mainstream</td>\n",
       "    </tr>\n",
       "    <tr>\n",
       "      <th>1</th>\n",
       "      <td>JFRGRFjeEJVG8RJF8R1Foj8AJJ7Et8oH</td>\n",
       "      <td>193703.1001</td>\n",
       "      <td>1.0001</td>\n",
       "      <td>2019-01-01</td>\n",
       "      <td>1</td>\n",
       "      <td>2019</td>\n",
       "      <td>Premium</td>\n",
       "    </tr>\n",
       "    <tr>\n",
       "      <th>2</th>\n",
       "      <td>V1AG7tA7E1tMVjt7tVH7JARR11AVotet</td>\n",
       "      <td>26518.9801</td>\n",
       "      <td>1.0001</td>\n",
       "      <td>2019-01-01</td>\n",
       "      <td>1</td>\n",
       "      <td>2019</td>\n",
       "      <td>Mainstream</td>\n",
       "    </tr>\n",
       "    <tr>\n",
       "      <th>3</th>\n",
       "      <td>tAEVH8jEG1Eoe1GE1JEojJetVtMGFjto</td>\n",
       "      <td>1120.9801</td>\n",
       "      <td>1.0001</td>\n",
       "      <td>2019-01-01</td>\n",
       "      <td>1</td>\n",
       "      <td>2019</td>\n",
       "      <td>Value</td>\n",
       "    </tr>\n",
       "    <tr>\n",
       "      <th>4</th>\n",
       "      <td>RV18RMMHAVjJoe78eGjtAVV1RAM7AoEE</td>\n",
       "      <td>66085.8001</td>\n",
       "      <td>1.0001</td>\n",
       "      <td>2019-01-01</td>\n",
       "      <td>1</td>\n",
       "      <td>2019</td>\n",
       "      <td>Mainstream</td>\n",
       "    </tr>\n",
       "  </tbody>\n",
       "</table>\n",
       "</div>"
      ],
      "text/plain": [
       "                             CustID    SaleValue  OrderedQuantity   OrderDate  \\\n",
       "0  JFRGRFjeEJVG8RJF8R1Foj8AJJ7Et8oH   25398.0001           1.0001  2019-01-01   \n",
       "1  JFRGRFjeEJVG8RJF8R1Foj8AJJ7Et8oH  193703.1001           1.0001  2019-01-01   \n",
       "2  V1AG7tA7E1tMVjt7tVH7JARR11AVotet   26518.9801           1.0001  2019-01-01   \n",
       "3  tAEVH8jEG1Eoe1GE1JEojJetVtMGFjto    1120.9801           1.0001  2019-01-01   \n",
       "4  RV18RMMHAVjJoe78eGjtAVV1RAM7AoEE   66085.8001           1.0001  2019-01-01   \n",
       "\n",
       "   Month  Year     Segment  \n",
       "0      1  2019  Mainstream  \n",
       "1      1  2019     Premium  \n",
       "2      1  2019  Mainstream  \n",
       "3      1  2019       Value  \n",
       "4      1  2019  Mainstream  "
      ]
     },
     "execution_count": 84,
     "metadata": {},
     "output_type": "execute_result"
    }
   ],
   "source": [
    "df_fd.head()"
   ]
  },
  {
   "cell_type": "code",
   "execution_count": 87,
   "id": "b88172f2-c88c-4898-aa39-338b0f37a893",
   "metadata": {},
   "outputs": [
    {
     "name": "stdout",
     "output_type": "stream",
     "text": [
      "<class 'pandas.core.frame.DataFrame'>\n",
      "RangeIndex: 453108 entries, 0 to 453107\n",
      "Data columns (total 7 columns):\n",
      " #   Column           Non-Null Count   Dtype         \n",
      "---  ------           --------------   -----         \n",
      " 0   CustID           453108 non-null  category      \n",
      " 1   SaleValue        453107 non-null  float64       \n",
      " 2   OrderedQuantity  453108 non-null  float64       \n",
      " 3   OrderDate        453108 non-null  datetime64[ns]\n",
      " 4   Month            453108 non-null  int64         \n",
      " 5   Year             453108 non-null  int64         \n",
      " 6   Segment          453107 non-null  category      \n",
      "dtypes: category(2), datetime64[ns](1), float64(2), int64(2)\n",
      "memory usage: 24.9 MB\n"
     ]
    }
   ],
   "source": [
    "df_fd.info()"
   ]
  },
  {
   "cell_type": "code",
   "execution_count": 86,
   "id": "8c82942d-f8aa-4087-abe2-d7553886a96b",
   "metadata": {},
   "outputs": [],
   "source": [
    "df_fd['CustID'] = df_fd['CustID'].astype('category')\n",
    "df_fd['OrderDate'] = df_fd['OrderDate'].astype('datetime64[ns]')\n",
    "df_fd['Segment'] = df_fd['Segment'].astype('category')"
   ]
  },
  {
   "cell_type": "code",
   "execution_count": 89,
   "id": "6befcf03-aba0-4c53-a202-465230d1fb71",
   "metadata": {},
   "outputs": [],
   "source": [
    "df_fd.to_csv('Cleaned_Customer_Filtered_Data.csv', index=False)"
   ]
  }
 ],
 "metadata": {
  "kernelspec": {
   "display_name": "Python 3 (ipykernel)",
   "language": "python",
   "name": "python3"
  },
  "language_info": {
   "codemirror_mode": {
    "name": "ipython",
    "version": 3
   },
   "file_extension": ".py",
   "mimetype": "text/x-python",
   "name": "python",
   "nbconvert_exporter": "python",
   "pygments_lexer": "ipython3",
   "version": "3.11.7"
  }
 },
 "nbformat": 4,
 "nbformat_minor": 5
}
